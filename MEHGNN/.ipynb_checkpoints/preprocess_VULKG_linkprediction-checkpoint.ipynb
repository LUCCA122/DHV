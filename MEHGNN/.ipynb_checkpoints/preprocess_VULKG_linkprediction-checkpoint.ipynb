{
 "cells": [
  {
   "cell_type": "code",
   "execution_count": 1,
   "id": "43e3a5da",
   "metadata": {},
   "outputs": [],
   "source": [
    "import pathlib\n",
    "import pickle\n",
    "\n",
    "import numpy as np\n",
    "import scipy.sparse\n",
    "import scipy.io\n",
    "import pandas as pd"
   ]
  },
  {
   "cell_type": "code",
   "execution_count": 2,
   "id": "dee184ae",
   "metadata": {},
   "outputs": [],
   "source": [
    "save_prefix = 'data/preprocessed/new_vulkgdata_preprocessed/'"
   ]
  },
  {
   "cell_type": "code",
   "execution_count": 3,
   "id": "e9d37067",
   "metadata": {},
   "outputs": [
    {
     "data": {
      "text/html": [
       "<div>\n",
       "<style scoped>\n",
       "    .dataframe tbody tr th:only-of-type {\n",
       "        vertical-align: middle;\n",
       "    }\n",
       "\n",
       "    .dataframe tbody tr th {\n",
       "        vertical-align: top;\n",
       "    }\n",
       "\n",
       "    .dataframe thead th {\n",
       "        text-align: right;\n",
       "    }\n",
       "</style>\n",
       "<table border=\"1\" class=\"dataframe\">\n",
       "  <thead>\n",
       "    <tr style=\"text-align: right;\">\n",
       "      <th></th>\n",
       "      <th>cveID</th>\n",
       "      <th>Product Version</th>\n",
       "      <th>label</th>\n",
       "    </tr>\n",
       "  </thead>\n",
       "  <tbody>\n",
       "    <tr>\n",
       "      <th>0</th>\n",
       "      <td>CVE-2019-13719</td>\n",
       "      <td>Google Chrome &lt;78.0.3904.70</td>\n",
       "      <td>1</td>\n",
       "    </tr>\n",
       "    <tr>\n",
       "      <th>1</th>\n",
       "      <td>CVE-2019-13717</td>\n",
       "      <td>Google Chrome &lt;78.0.3904.70</td>\n",
       "      <td>1</td>\n",
       "    </tr>\n",
       "    <tr>\n",
       "      <th>2</th>\n",
       "      <td>CVE-2019-13718</td>\n",
       "      <td>Google Chrome &lt;78.0.3904.70</td>\n",
       "      <td>1</td>\n",
       "    </tr>\n",
       "    <tr>\n",
       "      <th>3</th>\n",
       "      <td>CVE-2019-13716</td>\n",
       "      <td>Google Chrome &lt;78.0.3904.70</td>\n",
       "      <td>1</td>\n",
       "    </tr>\n",
       "    <tr>\n",
       "      <th>4</th>\n",
       "      <td>CVE-2019-13715</td>\n",
       "      <td>Google Chrome &lt;78.0.3904.70</td>\n",
       "      <td>1</td>\n",
       "    </tr>\n",
       "  </tbody>\n",
       "</table>\n",
       "</div>"
      ],
      "text/plain": [
       "            cveID              Product Version  label\n",
       "0  CVE-2019-13719  Google Chrome <78.0.3904.70      1\n",
       "1  CVE-2019-13717  Google Chrome <78.0.3904.70      1\n",
       "2  CVE-2019-13718  Google Chrome <78.0.3904.70      1\n",
       "3  CVE-2019-13716  Google Chrome <78.0.3904.70      1\n",
       "4  CVE-2019-13715  Google Chrome <78.0.3904.70      1"
      ]
     },
     "execution_count": 3,
     "metadata": {},
     "output_type": "execute_result"
    }
   ],
   "source": [
    "df = pd.read_csv('data/raw/new_vulkgdata/label_with_negatives.csv')\n",
    "df = df[df['label']==1]\n",
    "df.head()"
   ]
  },
  {
   "cell_type": "code",
   "execution_count": 4,
   "id": "6b0c0c85",
   "metadata": {},
   "outputs": [],
   "source": [
    "num_cve = len(set(df['cveID']))\n",
    "num_pv = len(set(df['Product Version']))"
   ]
  },
  {
   "cell_type": "code",
   "execution_count": 5,
   "id": "8ad20ad1",
   "metadata": {},
   "outputs": [],
   "source": [
    "num_samples = len(df)\n",
    "# 设定训练集、验证集、测试集的比例\n",
    "train_ratio = 0.7\n",
    "val_ratio = 0.2\n",
    "# 注意： 测试集的比例可以通过 1 减去训练集和验证集的比例来计算\n",
    "\n",
    "# 计算各个集合的大小\n",
    "train_size = int(train_ratio * num_samples)\n",
    "val_size = int(val_ratio * num_samples)\n",
    "# 打乱索引\n",
    "indices = df.index.values\n",
    "np.random.shuffle(indices)\n",
    "\n",
    "# 分割数据集索引\n",
    "train_idx = indices[:train_size]\n",
    "val_idx = indices[train_size:train_size + val_size]\n",
    "test_idx = indices[train_size + val_size:]"
   ]
  },
  {
   "cell_type": "code",
   "execution_count": 6,
   "id": "24f4cdcd",
   "metadata": {},
   "outputs": [],
   "source": [
    "cves = list(set(df['cveID']))\n",
    "cves.sort()\n",
    "pvs = list(set(df['Product Version']))\n",
    "pvs.sort()"
   ]
  },
  {
   "cell_type": "code",
   "execution_count": 7,
   "id": "5d52252c-58a3-4f94-9017-e813e5047e43",
   "metadata": {},
   "outputs": [],
   "source": [
    "import pickle\n",
    "\n",
    "with open('cves.pickle','wb') as f:\n",
    "    pickle.dump(cves,f)"
   ]
  },
  {
   "cell_type": "code",
   "execution_count": 8,
   "id": "0c1c89d9",
   "metadata": {},
   "outputs": [],
   "source": [
    "cve_pv = df.loc[train_idx].reset_index(drop=True)"
   ]
  },
  {
   "cell_type": "code",
   "execution_count": 9,
   "id": "64635908",
   "metadata": {},
   "outputs": [],
   "source": [
    "# build the adjacency matrix\n",
    "# 0 for cve, 1 for pv\n",
    "dim = num_cve + num_pv\n",
    "\n",
    "type_mask = np.zeros((dim), dtype=int)\n",
    "type_mask[num_cve:] = 1\n",
    "\n",
    "adjM = np.zeros((dim, dim), dtype=int)\n",
    "for _, row in cve_pv.iterrows():\n",
    "    \n",
    "    adjM[cves.index(row['cveID']),len(cves)+ pvs.index(row['Product Version'])] = 1\n",
    "    adjM[len(cves)+pvs.index(row['Product Version']), cves.index(row['cveID'])] = 1\n"
   ]
  },
  {
   "cell_type": "code",
   "execution_count": 10,
   "id": "2cb27e1a",
   "metadata": {},
   "outputs": [],
   "source": [
    "cve_pv_list = {i: adjM[i, num_cve:num_cve+num_pv].nonzero()[0] for i in range(num_cve)}\n",
    "pv_cve_list = {i: adjM[num_cve + i, :num_cve].nonzero()[0] for i in range(num_pv)}"
   ]
  },
  {
   "cell_type": "code",
   "execution_count": 11,
   "id": "db3b17b8",
   "metadata": {},
   "outputs": [],
   "source": [
    "# 0-1-0\n",
    "u_a_u = []\n",
    "for a, u_list in pv_cve_list.items():\n",
    "    u_a_u.extend([(u1, a, u2) for u1 in u_list for u2 in u_list])\n",
    "u_a_u = np.array(u_a_u)\n",
    "u_a_u[:, 1] += num_cve\n",
    "sorted_index = sorted(list(range(len(u_a_u))), key=lambda i : u_a_u[i, [0, 2, 1]].tolist())\n",
    "u_a_u = u_a_u[sorted_index]\n",
    "\n",
    "# 1-0-1\n",
    "a_u_a = []\n",
    "for u, a_list in cve_pv_list.items():\n",
    "    a_u_a.extend([(a1, u, a2) for a1 in a_list for a2 in a_list])\n",
    "a_u_a = np.array(a_u_a)\n",
    "a_u_a[:, [0, 2]] += num_cve\n",
    "sorted_index = sorted(list(range(len(a_u_a))), key=lambda i : a_u_a[i, [0, 2, 1]].tolist())\n",
    "a_u_a = a_u_a[sorted_index]"
   ]
  },
  {
   "cell_type": "code",
   "execution_count": 12,
   "id": "c3ea59a9",
   "metadata": {},
   "outputs": [],
   "source": [
    "expected_metapaths = [\n",
    "    [(0, 1, 0)],\n",
    "    [(1, 0, 1)]\n",
    "]\n",
    "# create the directories if they do not exist\n",
    "for i in range(len(expected_metapaths)):\n",
    "    pathlib.Path(save_prefix + '{}'.format(i)).mkdir(parents=True, exist_ok=True)\n",
    "\n",
    "metapath_indices_mapping = {(0, 1, 0): u_a_u,\n",
    "                            \n",
    "                            (1, 0, 1): a_u_a\n",
    "                            }\n",
    "\n",
    "# write all things\n",
    "target_idx_lists = [np.arange(num_cve), np.arange(num_pv)]\n",
    "offset_list = [0, num_cve]\n",
    "for i, metapaths in enumerate(expected_metapaths):\n",
    "    for metapath in metapaths:\n",
    "        edge_metapath_idx_array = metapath_indices_mapping[metapath]\n",
    "        \n",
    "        with open(save_prefix + '{}/'.format(i) + '-'.join(map(str, metapath)) + '_idx.pickle', 'wb') as out_file:\n",
    "            target_metapaths_mapping = {}\n",
    "            left = 0\n",
    "            right = 0\n",
    "            for target_idx in target_idx_lists[i]:\n",
    "                while right < len(edge_metapath_idx_array) and edge_metapath_idx_array[right, 0] == target_idx + offset_list[i]:\n",
    "                    right += 1\n",
    "                target_metapaths_mapping[target_idx] = edge_metapath_idx_array[left:right, ::-1]\n",
    "                left = right\n",
    "            pickle.dump(target_metapaths_mapping, out_file)\n",
    "\n",
    "        #np.save(save_prefix + '{}/'.format(i) + '-'.join(map(str, metapath)) + '_idx.npy', edge_metapath_idx_array)\n",
    "        \n",
    "        with open(save_prefix + '{}/'.format(i) + '-'.join(map(str, metapath)) + '.adjlist', 'w') as out_file:\n",
    "            left = 0\n",
    "            right = 0\n",
    "            for target_idx in target_idx_lists[i]:\n",
    "                while right < len(edge_metapath_idx_array) and edge_metapath_idx_array[right, 0] == target_idx + offset_list[i]:\n",
    "                    right += 1\n",
    "                neighbors = edge_metapath_idx_array[left:right, -1] - offset_list[i]\n",
    "                neighbors = list(map(str, neighbors))\n",
    "                if len(neighbors) > 0:\n",
    "                    out_file.write('{} '.format(target_idx) + ' '.join(neighbors) + '\\n')\n",
    "                else:\n",
    "                    out_file.write('{}\\n'.format(target_idx))\n",
    "                left = right\n",
    "\n",
    "scipy.sparse.save_npz(save_prefix + 'adjM.npz', scipy.sparse.csr_matrix(adjM))\n",
    "np.save(save_prefix + 'node_types.npy', type_mask)"
   ]
  },
  {
   "cell_type": "code",
   "execution_count": 13,
   "id": "3eb261e9",
   "metadata": {},
   "outputs": [],
   "source": [
    "# output user_artist.npy\n",
    "df['cve'] = df['cveID'].apply(lambda x: cves.index(x))\n",
    "df['pv'] = df['Product Version'].apply(lambda x: pvs.index(x))\n",
    "cve_pv = df[['cve', 'pv']].to_numpy()\n",
    "np.save(save_prefix + 'user_artist.npy', cve_pv)"
   ]
  },
  {
   "cell_type": "code",
   "execution_count": 14,
   "id": "7f931ab8",
   "metadata": {},
   "outputs": [],
   "source": [
    "# output positive and negative samples for training, validation and testing\n",
    "\n",
    "np.random.seed(453289)\n",
    "\n",
    "\n",
    "cve_pv = np.load(save_prefix + 'user_artist.npy')\n",
    "\n",
    "neg_candidates = []\n",
    "counter = 0\n",
    "for i in range(num_cve):\n",
    "    for j in range(num_pv):\n",
    "        if counter < len(cve_pv):\n",
    "            if i == cve_pv[counter, 0] and j == cve_pv[counter, 1]:\n",
    "                counter += 1\n",
    "            else:\n",
    "                neg_candidates.append([i, j])\n",
    "        else:\n",
    "            neg_candidates.append([i, j])\n",
    "neg_candidates = np.array(neg_candidates)\n",
    "\n",
    "idx = np.random.choice(len(neg_candidates), len(val_idx) + len(test_idx), replace=False)\n",
    "val_neg_candidates = neg_candidates[sorted(idx[:len(val_idx)])]\n",
    "test_neg_candidates = neg_candidates[sorted(idx[len(val_idx):])]\n",
    "\n",
    "train_user_artist = cve_pv[train_idx]\n",
    "train_neg_candidates = []\n",
    "counter = 0\n",
    "for i in range(num_cve):\n",
    "    for j in range(num_pv):\n",
    "        if counter < len(train_user_artist):\n",
    "            if i == train_user_artist[counter, 0] and j == train_user_artist[counter, 1]:\n",
    "                counter += 1\n",
    "            else:\n",
    "                train_neg_candidates.append([i, j])\n",
    "        else:\n",
    "            train_neg_candidates.append([i, j])\n",
    "train_neg_candidates = np.array(train_neg_candidates)\n",
    "\n",
    "np.savez(save_prefix + 'train_val_test_neg_user_artist.npz',\n",
    "         train_neg_user_artist=train_neg_candidates,\n",
    "         val_neg_user_artist=val_neg_candidates,\n",
    "         test_neg_user_artist=test_neg_candidates)\n",
    "np.savez(save_prefix + 'train_val_test_pos_user_artist.npz',\n",
    "         train_pos_user_artist=cve_pv[train_idx],\n",
    "         val_pos_user_artist=cve_pv[val_idx],\n",
    "         test_pos_user_artist=cve_pv[test_idx])"
   ]
  },
  {
   "cell_type": "code",
   "execution_count": 15,
   "id": "0884c2c8",
   "metadata": {},
   "outputs": [
    {
     "data": {
      "text/plain": [
       "13325"
      ]
     },
     "execution_count": 15,
     "metadata": {},
     "output_type": "execute_result"
    }
   ],
   "source": [
    "num_cve"
   ]
  },
  {
   "cell_type": "code",
   "execution_count": 16,
   "id": "55a2d552",
   "metadata": {},
   "outputs": [
    {
     "data": {
      "text/plain": [
       "10176"
      ]
     },
     "execution_count": 16,
     "metadata": {},
     "output_type": "execute_result"
    }
   ],
   "source": [
    "num_pv"
   ]
  },
  {
   "cell_type": "code",
   "execution_count": null,
   "id": "f35cba7d",
   "metadata": {},
   "outputs": [],
   "source": []
  }
 ],
 "metadata": {
  "kernelspec": {
   "display_name": "Python 3 (ipykernel)",
   "language": "python",
   "name": "python3"
  },
  "language_info": {
   "codemirror_mode": {
    "name": "ipython",
    "version": 3
   },
   "file_extension": ".py",
   "mimetype": "text/x-python",
   "name": "python",
   "nbconvert_exporter": "python",
   "pygments_lexer": "ipython3",
   "version": "3.7.9"
  }
 },
 "nbformat": 4,
 "nbformat_minor": 5
}
