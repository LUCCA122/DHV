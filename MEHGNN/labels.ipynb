{
 "cells": [
  {
   "cell_type": "code",
   "execution_count": 6,
   "metadata": {},
   "outputs": [],
   "source": [
    "import pandas as pd\n",
    "\n",
    "# 读取原始CSV文件\n",
    "df = pd.read_csv('data/raw/VULKG/AffectsAddProperty.csv')\n",
    "\n",
    "# 将Product和Version合并成一列\n",
    "df['Product Version'] = df['Product'].astype(str) + ' ' + df['Version'].astype(str)\n",
    "\n",
    "# 删除不再需要的列\n",
    "df.drop(columns=['Product', 'Version'], inplace=True)\n",
    "\n",
    "# 添加Label列，并填充为1\n",
    "df['label'] = 1\n",
    "\n",
    "# 去除重复项\n",
    "df.drop_duplicates(inplace=True)\n",
    "\n",
    "# 保存前50000行到新的CSV文件\n",
    "df.head(50000).to_csv('data/raw/VULKG/labels.csv', index=False)"
   ]
  },
  {
   "cell_type": "code",
   "execution_count": 3,
   "metadata": {},
   "outputs": [],
   "source": [
    "import pandas as pd\n",
    "\n",
    "# 读取原始CSV文件\n",
    "df = pd.read_csv('data/raw/new_vulkgdata/impact.csv')\n",
    "\n",
    "df = df[df['cn_impact'] != '(暂无)']\n",
    "\n",
    "# 添加Label列，并填充为1\n",
    "df['label'] = 1\n",
    "\n",
    "# 去除重复项\n",
    "df.drop_duplicates(inplace=True)\n",
    "\n",
    "# 随机抽取20000行\n",
    "\n",
    "\n",
    "# 保存前20000行到新的CSV文件\n",
    "df.head(20000).to_csv('data/raw/new_vulkgdata/labels.csv', index=False)"
   ]
  },
  {
   "cell_type": "code",
   "execution_count": null,
   "metadata": {},
   "outputs": [],
   "source": []
  }
 ],
 "metadata": {
  "kernelspec": {
   "display_name": "Python 3 (ipykernel)",
   "language": "python",
   "name": "python3"
  },
  "language_info": {
   "codemirror_mode": {
    "name": "ipython",
    "version": 3
   },
   "file_extension": ".py",
   "mimetype": "text/x-python",
   "name": "python",
   "nbconvert_exporter": "python",
   "pygments_lexer": "ipython3",
   "version": "3.7.9"
  }
 },
 "nbformat": 4,
 "nbformat_minor": 4
}
